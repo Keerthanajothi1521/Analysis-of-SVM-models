import pandas as pd
from sklearn.model_selection import train_test_split
from sklearn.preprocessing import StandardScaler, OneHotEncoder
from sklearn.compose import ColumnTransformer
from sklearn.pipeline import Pipeline
data = pd.read_csv('ClassificationDataset.csv')
print("Dataset columns:", data.columns.tolist())
print("\nFirst 5 rows:")
print(data.head())
print("\nData info:")
print(data.info())
  
X = data.drop('Recurred', axis=1)
y = data['Recurred']
categorical_cols = X.select_dtypes(include=['object']).columns
numerical_cols = X.select_dtypes(include=['int64', 'float64']).columns
numeric_transformer = Pipeline(steps=[
    ('scaler', StandardScaler())
])
