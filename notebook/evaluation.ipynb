from sklearn.svm import SVC
from sklearn.metrics import accuracy_score, classification_report

svm_pipeline = Pipeline(steps=[
    ('preprocessor', preprocessor),
    ('classifier', SVC(random_state=42))
])

kernels = ['linear', 'poly', 'rbf']
results = {}

for kernel in kernels:
    print(f"\nTraining SVM with {kernel} kernel")

    svm_pipeline.set_params(classifier__kernel=kernel)
    svm_pipeline.fit(X_train, y_train)
    
    y_train_pred = svm_pipeline.predict(X_train)
    y_test_pred = svm_pipeline.predict(X_test)
    
    train_acc = accuracy_score(y_train, y_train_pred)
    test_acc = accuracy_score(y_test, y_test_pred)
    
    results[kernel] = {
        'Training Accuracy': train_acc,
        'Test Accuracy': test_acc,
        'Classification Report': classification_report(y_test, y_test_pred)
    }
print("\nModel Performance Comparison:")
for kernel, metrics in results.items():
    print(f"\n{kernel.upper()} Kernel:")
    print(f"Training Accuracy: {metrics['Training Accuracy']:.4f}")
    print(f"Test Accuracy: {metrics['Test Accuracy']:.4f}")
    print("\nClassification Report:")
    print(metrics['Classification Report'])
