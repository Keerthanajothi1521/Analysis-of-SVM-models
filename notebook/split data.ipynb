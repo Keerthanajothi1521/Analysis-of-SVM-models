categorical_transformer = Pipeline(steps=[
    ('onehot', OneHotEncoder(handle_unknown='ignore'))
])
preprocessor = ColumnTransformer(
    transformers=[
        ('num', numeric_transformer, numerical_cols),
        ('cat', categorical_transformer, categorical_cols)
])
X_train, X_test, y_train, y_test = train_test_split(X, y, test_size=0.3, random_state=42)
